{
 "cells": [
  {
   "cell_type": "code",
   "execution_count": 16,
   "id": "80bc6796",
   "metadata": {},
   "outputs": [],
   "source": [
    "import pandas as pd\n",
    "import requests\n",
    "from bs4 import BeautifulSoup\n",
    "\n",
    "Product_name = []\n",
    "Prices = []\n",
    "Description = []\n",
    "Reviews = []\n",
    "for i in range(2,12):\n",
    "    url = \"https://www.flipkart.com/search?q=mobile+under+50000&otracker=search&otracker1=search&marketplace=FLIPKART&as-show=on&as=off&page=\"+str(i)\n",
    "\n",
    "    r = requests.get(url)\n",
    "\n",
    "    soup = BeautifulSoup(r.text, \"lxml\")\n",
    "    box = soup.find(\"div\", class_ = \"_1YokD2 _3Mn1Gg\")\n",
    "\n",
    "    names = box.find_all(\"div\", class_ = \"_4rR01T\")\n",
    "    for i in names:\n",
    "        name = i.text\n",
    "        Product_name.append(name)\n",
    "    # print(Product_name)\n",
    "\n",
    "    prices = box.find_all(\"div\", class_ = \"_30jeq3 _1_WHN1\")\n",
    "    for i in prices:\n",
    "        price = i.text\n",
    "        Prices.append(price)\n",
    "    # print(Prices)\n",
    "\n",
    "\n",
    "    desc = box.find_all(\"ul\", class_ = \"_1xgFaf\")\n",
    "    for i in desc:\n",
    "        name = i.text\n",
    "        Description.append(name)\n",
    "    # print(Description)\n",
    "\n",
    "    reviews = box.find_all(\"div\", class_ = \"_3LWZlK\")\n",
    "    for i in reviews:\n",
    "        name = i.text\n",
    "        Reviews.append(name)\n",
    "\n",
    "    # print(len(Reviews))\n",
    "\n",
    "df = pd.DataFrame({\"Product Name\":Product_name, \"Prices\":Prices, \"Description\":Description, \"Reviews\":Reviews})\n",
    "\n",
    "df.to_csv(\"C:/Users/91732/OneDrive/Desktop/PyPy/webscrap/flipkart_mobile_under_50000.csv\")\n"
   ]
  },
  {
   "cell_type": "code",
   "execution_count": null,
   "id": "bc7a21d3",
   "metadata": {},
   "outputs": [],
   "source": []
  }
 ],
 "metadata": {
  "kernelspec": {
   "display_name": "Python 3 (ipykernel)",
   "language": "python",
   "name": "python3"
  },
  "language_info": {
   "codemirror_mode": {
    "name": "ipython",
    "version": 3
   },
   "file_extension": ".py",
   "mimetype": "text/x-python",
   "name": "python",
   "nbconvert_exporter": "python",
   "pygments_lexer": "ipython3",
   "version": "3.9.13"
  }
 },
 "nbformat": 4,
 "nbformat_minor": 5
}
